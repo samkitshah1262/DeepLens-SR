{
  "cells": [
    {
      "cell_type": "markdown",
      "metadata": {},
      "source": [
        "## Imports and settings"
      ]
    },
    {
      "cell_type": "code",
      "execution_count": 104,
      "metadata": {
        "id": "kxWOjzBEVjuN"
      },
      "outputs": [],
      "source": [
        "import torch\n",
        "import torch.nn as nn\n",
        "import torch.optim as optim\n",
        "from torch.utils.data import Dataset, DataLoader, WeightedRandomSampler\n",
        "from torchvision import transforms\n",
        "import numpy as np\n",
        "import matplotlib.pyplot as plt\n",
        "from sklearn.metrics import roc_auc_score, roc_curve\n",
        "import wandb\n",
        "import os\n",
        "import glob\n",
        "import torch.nn.functional as F"
      ]
    },
    {
      "cell_type": "code",
      "execution_count": 105,
      "metadata": {
        "colab": {
          "base_uri": "https://localhost:8080/",
          "height": 228
        },
        "id": "OQaRpe3WmF14",
        "outputId": "ed2394e0-cc09-4e86-f2de-2188dc6534e8"
      },
      "outputs": [
        {
          "name": "stderr",
          "output_type": "stream",
          "text": [
            "\u001b[34m\u001b[1mwandb\u001b[0m: \u001b[33mWARNING\u001b[0m Calling wandb.login() after wandb.init() has no effect.\n"
          ]
        },
        {
          "data": {
            "text/plain": [
              "True"
            ]
          },
          "execution_count": 105,
          "metadata": {},
          "output_type": "execute_result"
        }
      ],
      "source": [
        "wandb.login()"
      ]
    },
    {
      "cell_type": "code",
      "execution_count": 106,
      "metadata": {
        "colab": {
          "base_uri": "https://localhost:8080/",
          "height": 37
        },
        "id": "ZfyelSQ4Poe0",
        "outputId": "0a034998-56fa-42ba-94e6-59d31542f82a"
      },
      "outputs": [
        {
          "data": {
            "text/html": [],
            "text/plain": [
              "<IPython.core.display.HTML object>"
            ]
          },
          "metadata": {},
          "output_type": "display_data"
        },
        {
          "data": {
            "text/html": [
              " View run <strong style=\"color:#cdcd00\">prime-valley-4</strong> at: <a href='https://wandb.ai/samkitshah1262-warner-bros-discovery/deeplens-lens-finding/runs/81xpknss' target=\"_blank\">https://wandb.ai/samkitshah1262-warner-bros-discovery/deeplens-lens-finding/runs/81xpknss</a><br> View project at: <a href='https://wandb.ai/samkitshah1262-warner-bros-discovery/deeplens-lens-finding' target=\"_blank\">https://wandb.ai/samkitshah1262-warner-bros-discovery/deeplens-lens-finding</a><br>Synced 5 W&B file(s), 0 media file(s), 0 artifact file(s) and 0 other file(s)"
            ],
            "text/plain": [
              "<IPython.core.display.HTML object>"
            ]
          },
          "metadata": {},
          "output_type": "display_data"
        },
        {
          "data": {
            "text/html": [
              "Find logs at: <code>./wandb/run-20250317_052859-81xpknss/logs</code>"
            ],
            "text/plain": [
              "<IPython.core.display.HTML object>"
            ]
          },
          "metadata": {},
          "output_type": "display_data"
        },
        {
          "data": {
            "text/html": [
              "Tracking run with wandb version 0.19.8"
            ],
            "text/plain": [
              "<IPython.core.display.HTML object>"
            ]
          },
          "metadata": {},
          "output_type": "display_data"
        },
        {
          "data": {
            "text/html": [
              "Run data is saved locally in <code>/Users/sshah/2024/projects/gsoc/ml4sci/nolens/wandb/run-20250317_053229-idigcuni</code>"
            ],
            "text/plain": [
              "<IPython.core.display.HTML object>"
            ]
          },
          "metadata": {},
          "output_type": "display_data"
        },
        {
          "data": {
            "text/html": [
              "Syncing run <strong><a href='https://wandb.ai/samkitshah1262-warner-bros-discovery/deeplens-lens-finding/runs/idigcuni' target=\"_blank\">toasty-leaf-5</a></strong> to <a href='https://wandb.ai/samkitshah1262-warner-bros-discovery/deeplens-lens-finding' target=\"_blank\">Weights & Biases</a> (<a href='https://wandb.me/developer-guide' target=\"_blank\">docs</a>)<br>"
            ],
            "text/plain": [
              "<IPython.core.display.HTML object>"
            ]
          },
          "metadata": {},
          "output_type": "display_data"
        },
        {
          "data": {
            "text/html": [
              " View project at <a href='https://wandb.ai/samkitshah1262-warner-bros-discovery/deeplens-lens-finding' target=\"_blank\">https://wandb.ai/samkitshah1262-warner-bros-discovery/deeplens-lens-finding</a>"
            ],
            "text/plain": [
              "<IPython.core.display.HTML object>"
            ]
          },
          "metadata": {},
          "output_type": "display_data"
        },
        {
          "data": {
            "text/html": [
              " View run at <a href='https://wandb.ai/samkitshah1262-warner-bros-discovery/deeplens-lens-finding/runs/idigcuni' target=\"_blank\">https://wandb.ai/samkitshah1262-warner-bros-discovery/deeplens-lens-finding/runs/idigcuni</a>"
            ],
            "text/plain": [
              "<IPython.core.display.HTML object>"
            ]
          },
          "metadata": {},
          "output_type": "display_data"
        },
        {
          "data": {
            "text/html": [
              "<button onClick=\"this.nextSibling.style.display='block';this.style.display='none';\">Display W&B run</button><iframe src='https://wandb.ai/samkitshah1262-warner-bros-discovery/deeplens-lens-finding/runs/idigcuni?jupyter=true' style='border:none;width:100%;height:420px;display:none;'></iframe>"
            ],
            "text/plain": [
              "<wandb.sdk.wandb_run.Run at 0x391951be0>"
            ]
          },
          "execution_count": 106,
          "metadata": {},
          "output_type": "execute_result"
        }
      ],
      "source": [
        "wandb.init(project=\"deeplens-lens-finding\", entity=\"samkitshah1262-warner-bros-discovery\", reinit=True)"
      ]
    },
    {
      "cell_type": "code",
      "execution_count": 107,
      "metadata": {
        "id": "CCJ4k-7Hjl19"
      },
      "outputs": [],
      "source": [
        "class Config:\n",
        "    SEED = 1\n",
        "    BATCH_SIZE = 64\n",
        "    EPOCHS = 150\n",
        "    LEARNING_RATE = 1e-4\n",
        "    NUM_CLASSES = 3\n",
        "    IMG_SIZE = (150, 150)\n",
        "    USE_SAVED_MODEL = False\n",
        "    CKPT_PATH = \"./model_weights.pth\"\n",
        "\n",
        "config = Config()\n",
        "train_lens_dir = './lens-finding-test/train_lenses/'\n",
        "train_nonlens_dir = './lens-finding-test/train_nonlenses/'\n",
        "test_lens_dir = './lens-finding-test/test_lenses/'\n",
        "test_nonlens_dir = './lens-finding-test/test_nonlenses/'\n",
        "\n",
        "torch.manual_seed(config.SEED)\n",
        "np.random.seed(config.SEED)"
      ]
    },
    {
      "cell_type": "code",
      "execution_count": 108,
      "metadata": {
        "id": "wnz6jab1hCxZ"
      },
      "outputs": [],
      "source": [
        "device = torch.device(\"mps\" if torch.mps.is_available() else \"cpu\")"
      ]
    },
    {
      "cell_type": "code",
      "execution_count": 109,
      "metadata": {
        "id": "28TzIwMhkMsO"
      },
      "outputs": [],
      "source": [
        "# import gdown\n",
        "\n",
        "# url = \"https://drive.google.com/uc?id=12p4fMT2HmiDtu-PL_VNiByXxZnaBle84\"\n",
        "# output = \"dataset.zip\"\n",
        "# gdown.download(url, output)\n",
        "# !unzip -q dataset.zip"
      ]
    },
    {
      "cell_type": "markdown",
      "metadata": {},
      "source": [
        "## Data Loading and Processing"
      ]
    },
    {
      "cell_type": "code",
      "execution_count": 110,
      "metadata": {
        "id": "LOlRj5XhhF6t"
      },
      "outputs": [],
      "source": [
        "class LensDataset(Dataset):\n",
        "    def __init__(self, lens_dir, nonlens_dir, transform=None):\n",
        "        \"\"\"\n",
        "        lens_dir: directory with npy files of lensed galaxies (label 1)\n",
        "        nonlens_dir: directory with npy files of non-lensed galaxies (label 0)\n",
        "        \"\"\"\n",
        "        self.transform = transform\n",
        "        \n",
        "        self.lens_files = glob.glob(os.path.join(lens_dir, '*.npy'))\n",
        "        self.nonlens_files = glob.glob(os.path.join(nonlens_dir, '*.npy'))\n",
        "        \n",
        "        self.data = [(f, 1) for f in self.lens_files] + [(f, 0) for f in self.nonlens_files]\n",
        "    \n",
        "    def __len__(self):\n",
        "        return len(self.data)\n",
        "    \n",
        "    def __getitem__(self, idx):\n",
        "        filepath, label = self.data[idx]\n",
        "        image = np.load(filepath).astype(np.float32)\n",
        "        if self.transform:\n",
        "            image = self.transform(image)\n",
        "        image = torch.tensor(image)\n",
        "        return image, torch.tensor(label, dtype=torch.float32)\n",
        "\n",
        "def get_sampler(dataset):\n",
        "    labels = [label.item() for _, label in dataset]\n",
        "    class_sample_count = np.array([sum(np.array(labels)==t) for t in [0, 1]])\n",
        "\n",
        "    print('Class counts:', class_sample_count)\n",
        "    weight = 1. / class_sample_count\n",
        "    samples_weight = np.array([weight[int(label)] for label in labels])\n",
        "    samples_weight = torch.from_numpy(samples_weight).float()\n",
        "    sampler = WeightedRandomSampler(samples_weight, num_samples=len(samples_weight), replacement=True)\n",
        "    print('Class weights:', weight)\n",
        "    \n",
        "    return sampler\n",
        "\n",
        "def load_data():\n",
        "\n",
        "\n",
        "    train_dataset = LensDataset(train_lens_dir, train_nonlens_dir)\n",
        "    test_dataset = LensDataset(test_lens_dir, test_nonlens_dir)\n",
        "    \n",
        "    train_sampler = get_sampler(train_dataset)\n",
        "\n",
        "\n",
        "    train_loader = DataLoader(train_dataset, batch_size=256, sampler=train_sampler,pin_memory=True)\n",
        "    test_loader = DataLoader(test_dataset, batch_size=256, shuffle=False,pin_memory=True)\n",
        "    return train_loader, test_loader\n"
      ]
    },
    {
      "cell_type": "code",
      "execution_count": 111,
      "metadata": {
        "id": "9ZESm5d-hksh"
      },
      "outputs": [
        {
          "name": "stdout",
          "output_type": "stream",
          "text": [
            "Class counts: [28675  1730]\n",
            "Class weights: [3.48735833e-05 5.78034682e-04]\n"
          ]
        }
      ],
      "source": [
        "train_loader, val_loader = load_data()"
      ]
    },
    {
      "cell_type": "markdown",
      "metadata": {},
      "source": [
        "## Model"
      ]
    },
    {
      "cell_type": "code",
      "execution_count": 112,
      "metadata": {
        "id": "PdJsQZhFhLA_"
      },
      "outputs": [],
      "source": [
        "class CNN(nn.Module):\n",
        "    def __init__(self, dropout_prob=0.3):\n",
        "        super(CNN, self).__init__()\n",
        "\n",
        "        self.features = nn.Sequential(\n",
        "            nn.Conv2d(3, 64, kernel_size=3, padding=1),\n",
        "            nn.BatchNorm2d(64),\n",
        "            nn.LeakyReLU(0.1),\n",
        "            nn.MaxPool2d(2),\n",
        "            nn.Dropout2d(dropout_prob/4),\n",
        "            \n",
        "            nn.Conv2d(64, 128, kernel_size=3, padding=1),\n",
        "            nn.BatchNorm2d(128),\n",
        "            nn.LeakyReLU(0.1),\n",
        "            nn.MaxPool2d(2),\n",
        "            nn.Dropout2d(dropout_prob/2),\n",
        "            \n",
        "            nn.Conv2d(128, 256, kernel_size=3, padding=1),\n",
        "            nn.BatchNorm2d(256),\n",
        "            nn.LeakyReLU(0.1),\n",
        "            nn.MaxPool2d(2),\n",
        "            nn.Dropout2d(dropout_prob),\n",
        "\n",
        "            nn.Conv2d(256, 512, kernel_size=3, padding=1),\n",
        "            nn.BatchNorm2d(512),\n",
        "            nn.LeakyReLU(0.1),\n",
        "            nn.AdaptiveAvgPool2d((4, 4))\n",
        "        )\n",
        "\n",
        "        self.classifier = nn.Sequential(\n",
        "            nn.Linear(512 * 4 * 4, 1024),\n",
        "            nn.BatchNorm1d(1024),\n",
        "            nn.LeakyReLU(0.1),\n",
        "            nn.Dropout(dropout_prob),\n",
        "            \n",
        "            nn.Linear(1024, 512),\n",
        "            nn.BatchNorm1d(512),\n",
        "            nn.LeakyReLU(0.1),\n",
        "            nn.Dropout(dropout_prob),\n",
        "            \n",
        "            nn.Linear(512, 1)\n",
        "        )\n",
        "\n",
        "        for m in self.modules():\n",
        "            if isinstance(m, nn.Conv2d):\n",
        "                nn.init.kaiming_normal_(m.weight, mode='fan_out', nonlinearity='leaky_relu')\n",
        "            elif isinstance(m, nn.Linear):\n",
        "                nn.init.xavier_normal_(m.weight)\n",
        "                nn.init.constant_(m.bias, 0)\n",
        "\n",
        "    def forward(self, x):\n",
        "        x = self.features(x)\n",
        "        x = torch.flatten(x, 1)\n",
        "        x = self.classifier(x)\n",
        "        return x"
      ]
    },
    {
      "cell_type": "markdown",
      "metadata": {},
      "source": [
        "## Trainer and Validator"
      ]
    },
    {
      "cell_type": "code",
      "execution_count": 116,
      "metadata": {
        "id": "nO17lb6Xhgu5"
      },
      "outputs": [],
      "source": [
        "def evaluate(model, loader, criterion):\n",
        "    model.eval()\n",
        "    loss = 0\n",
        "    all_probs = []\n",
        "    all_labels = []\n",
        "    \n",
        "    with torch.no_grad():\n",
        "        for inputs, labels in loader:\n",
        "            inputs, labels = inputs.to(device), labels.to(device).unsqueeze(1)\n",
        "            outputs = model(inputs)\n",
        "            loss += criterion(outputs, labels).item()\n",
        "            \n",
        "            probs = torch.sigmoid(outputs).cpu()\n",
        "            all_probs.append(probs)\n",
        "            all_labels.append(labels.cpu())\n",
        "    \n",
        "    all_probs = torch.cat(all_probs).numpy()\n",
        "    all_labels = torch.cat(all_labels).numpy()\n",
        "    auc = roc_auc_score(all_labels, all_probs)\n",
        "    \n",
        "    return loss/len(loader), auc, all_labels, all_probs"
      ]
    },
    {
      "cell_type": "code",
      "execution_count": 119,
      "metadata": {
        "id": "UTsDD6CnhePw"
      },
      "outputs": [],
      "source": [
        "def train_model(model, train_loader, val_loader):\n",
        "    model.to(device)\n",
        "    pos_weight = torch.tensor([17.0]).to(device)\n",
        "    criterion = nn.BCEWithLogitsLoss(pos_weight=pos_weight)\n",
        "    optimizer = optim.Adam(model.parameters(), lr=config.LEARNING_RATE)\n",
        "    scheduler = optim.lr_scheduler.ReduceLROnPlateau(optimizer, 'max', patience=5)\n",
        "    best_auc = 0\n",
        "\n",
        "    for epoch in range(20):\n",
        "        model.train()\n",
        "        train_loss = 0\n",
        "        all_preds = []\n",
        "        all_labels = []\n",
        "\n",
        "        for inputs, labels in train_loader:\n",
        "            inputs, labels = inputs.to(device), labels.to(device).unsqueeze(1)\n",
        "            optimizer.zero_grad()\n",
        "            outputs = model(inputs)\n",
        "            loss = criterion(outputs, labels)\n",
        "            loss.backward()\n",
        "            optimizer.step()\n",
        "            train_loss += loss.item()\n",
        "            probs = torch.sigmoid(outputs).detach().cpu()\n",
        "            all_preds.append(probs)\n",
        "            all_labels.append(labels.cpu())\n",
        "        train_preds = torch.cat(all_preds).numpy()\n",
        "        train_labels = torch.cat(all_labels).numpy()\n",
        "        train_auc = roc_auc_score(train_labels, train_preds)\n",
        "        val_loss, val_auc, val_labels, val_probs = evaluate(model, val_loader, criterion)\n",
        "        scheduler.step(val_auc)\n",
        "        fpr, tpr, thresholds = roc_curve(val_labels, val_probs)\n",
        "\n",
        "        wandb.log({\n",
        "            \"epoch\": epoch,\n",
        "            \"train_loss\": train_loss/len(train_loader),\n",
        "            \"train_auc\": train_auc,\n",
        "            \"val_loss\": val_loss,\n",
        "            \"val_auc\": val_auc,\n",
        "            \"roc_curve\": wandb.plot.line_series(\n",
        "                xs=[fpr],\n",
        "                ys=[tpr],\n",
        "                keys=['ROC'],\n",
        "                title=\"ROC Curve\",\n",
        "                xname=\"False Positive Rate\"\n",
        "            ),\n",
        "        })\n",
        "        \n",
        "        if val_auc > best_auc:\n",
        "            best_auc = val_auc\n",
        "            torch.save(model.state_dict(), config.CKPT_PATH)\n",
        "\n",
        "        print(f'Epoch {epoch+1}/{config.EPOCHS}')\n",
        "        print(f'Train Loss: {train_loss/len(train_loader):.4f} | Train AUC: {train_auc:.4f}')\n",
        "        print(f'Val Loss: {val_loss:.4f} | Val AUC: {val_auc:.4f}')\n",
        "\n",
        "    model.load_state_dict(torch.load(config.CKPT_PATH))\n",
        "    return model\n"
      ]
    },
    {
      "cell_type": "code",
      "execution_count": 120,
      "metadata": {
        "colab": {
          "base_uri": "https://localhost:8080/"
        },
        "id": "00Ygj6UFhnQy",
        "outputId": "74a8665c-c9e2-45fd-b49f-91cf4bebba21"
      },
      "outputs": [
        {
          "name": "stdout",
          "output_type": "stream",
          "text": [
            "Epoch 1/150\n",
            "Train Loss: 1.3799 | Train AUC: 0.8975\n",
            "Val Loss: 0.9854 | Val AUC: 0.9255\n",
            "Epoch 2/150\n",
            "Train Loss: 0.9052 | Train AUC: 0.9437\n",
            "Val Loss: 0.6869 | Val AUC: 0.9465\n",
            "Epoch 3/150\n",
            "Train Loss: 0.7270 | Train AUC: 0.9579\n",
            "Val Loss: 0.4931 | Val AUC: 0.9551\n",
            "Epoch 4/150\n",
            "Train Loss: 0.6620 | Train AUC: 0.9631\n",
            "Val Loss: 0.5827 | Val AUC: 0.9550\n",
            "Epoch 5/150\n",
            "Train Loss: 0.5746 | Train AUC: 0.9709\n",
            "Val Loss: 0.4231 | Val AUC: 0.9598\n",
            "Epoch 6/150\n",
            "Train Loss: 0.5263 | Train AUC: 0.9736\n",
            "Val Loss: 0.3955 | Val AUC: 0.9625\n",
            "Epoch 7/150\n",
            "Train Loss: 0.4550 | Train AUC: 0.9783\n",
            "Val Loss: 0.3906 | Val AUC: 0.9636\n",
            "Epoch 8/150\n",
            "Train Loss: 0.4336 | Train AUC: 0.9793\n",
            "Val Loss: 0.3593 | Val AUC: 0.9639\n",
            "Epoch 9/150\n",
            "Train Loss: 0.3975 | Train AUC: 0.9813\n",
            "Val Loss: 0.3221 | Val AUC: 0.9649\n",
            "Epoch 10/150\n",
            "Train Loss: 0.3771 | Train AUC: 0.9835\n",
            "Val Loss: 0.2767 | Val AUC: 0.9652\n",
            "Epoch 11/150\n",
            "Train Loss: 0.3439 | Train AUC: 0.9845\n",
            "Val Loss: 0.2926 | Val AUC: 0.9657\n",
            "Epoch 12/150\n",
            "Train Loss: 0.3287 | Train AUC: 0.9856\n",
            "Val Loss: 0.2402 | Val AUC: 0.9659\n",
            "Epoch 13/150\n",
            "Train Loss: 0.3090 | Train AUC: 0.9873\n",
            "Val Loss: 0.2545 | Val AUC: 0.9672\n",
            "Epoch 14/150\n",
            "Train Loss: 0.2930 | Train AUC: 0.9884\n",
            "Val Loss: 0.2897 | Val AUC: 0.9689\n",
            "Epoch 15/150\n",
            "Train Loss: 0.2877 | Train AUC: 0.9885\n",
            "Val Loss: 0.2724 | Val AUC: 0.9708\n",
            "Epoch 16/150\n",
            "Train Loss: 0.2640 | Train AUC: 0.9897\n",
            "Val Loss: 0.2944 | Val AUC: 0.9669\n",
            "Epoch 17/150\n",
            "Train Loss: 0.2456 | Train AUC: 0.9912\n",
            "Val Loss: 0.2485 | Val AUC: 0.9696\n",
            "Epoch 18/150\n",
            "Train Loss: 0.2578 | Train AUC: 0.9900\n",
            "Val Loss: 0.2655 | Val AUC: 0.9704\n",
            "Epoch 19/150\n",
            "Train Loss: 0.2257 | Train AUC: 0.9914\n",
            "Val Loss: 0.2370 | Val AUC: 0.9718\n",
            "Epoch 20/150\n",
            "Train Loss: 0.2124 | Train AUC: 0.9923\n",
            "Val Loss: 0.2668 | Val AUC: 0.9714\n"
          ]
        }
      ],
      "source": [
        "model = CNN()\n",
        "model = train_model(model, train_loader, val_loader)"
      ]
    },
    {
      "cell_type": "code",
      "execution_count": 131,
      "metadata": {},
      "outputs": [],
      "source": [
        "from sklearn.metrics import confusion_matrix\n",
        "import seaborn as sns\n",
        "\n",
        "def log_confusion_matrix(labels, probs, class_names, threshold=0.5):\n",
        "    \"\"\"\n",
        "    Log confusion matrix to wandb and return matplotlib figure\n",
        "    \"\"\"\n",
        "    preds = (probs >= threshold).astype(int)\n",
        "    # print(\"labels\", labels[0])\n",
        "    # print(\"preds\", preds[0])\n",
        "    cm = confusion_matrix(labels, preds)\n",
        "\n",
        "    fig = plt.figure(figsize=(8, 6))\n",
        "    sns.heatmap(cm, annot=True, fmt='d', cmap='Blues', \n",
        "                xticklabels=class_names, yticklabels=class_names)\n",
        "    plt.xlabel('Predicted')\n",
        "    plt.ylabel('Actual')\n",
        "    plt.title('Confusion Matrix')\n",
        "\n",
        "    wandb.log({\"confusion_matrix\": wandb.Image(fig)})\n",
        "    plt.close(fig)\n",
        "    return fig\n"
      ]
    },
    {
      "cell_type": "code",
      "execution_count": 123,
      "metadata": {},
      "outputs": [],
      "source": [
        "pos_weight = torch.tensor([17.0]).to(device)\n",
        "criterion = nn.BCEWithLogitsLoss(pos_weight=pos_weight)\n",
        "final = CNN()\n",
        "final.load_state_dict(torch.load(config.CKPT_PATH))\n",
        "val_loss, val_auc, val_labels, val_probs = evaluate(model, val_loader, criterion)"
      ]
    },
    {
      "cell_type": "code",
      "execution_count": 132,
      "metadata": {},
      "outputs": [
        {
          "name": "stdout",
          "output_type": "stream",
          "text": [
            "labels [1.]\n",
            "preds [0]\n"
          ]
        },
        {
          "data": {
            "image/png": "[encoded data removed]",
            "text/plain": [
              "<Figure size 800x600 with 2 Axes>"
            ]
          },
          "execution_count": 132,
          "metadata": {},
          "output_type": "execute_result"
        }
      ],
      "source": [
        "log_confusion_matrix(val_labels, val_probs, [\"Non-Lens\", \"Lens\"])"
      ]
    }
  ],
  "metadata": {
    "accelerator": "GPU",
    "colab": {
      "gpuType": "T4",
      "provenance": []
    },
    "kernelspec": {
      "display_name": "base",
      "language": "python",
      "name": "python3"
    },
    "language_info": {
      "codemirror_mode": {
        "name": "ipython",
        "version": 3
      },
      "file_extension": ".py",
      "mimetype": "text/x-python",
      "name": "python",
      "nbconvert_exporter": "python",
      "pygments_lexer": "ipython3",
      "version": "3.12.7"
    }
  },
  "nbformat": 4,
  "nbformat_minor": 0
}
